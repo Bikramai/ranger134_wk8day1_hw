{
 "cells": [
  {
   "cell_type": "markdown",
   "metadata": {},
   "source": [
    "# INSTRUCTORS GUIDE"
   ]
  },
  {
   "cell_type": "markdown",
   "metadata": {},
   "source": [
    "<b>NOTES/TIPS TO INSTRUCTORS</b>"
   ]
  },
  {
   "cell_type": "markdown",
   "metadata": {},
   "source": [
    "- The Content of this notebook is relatively short, but there are a lot of In Class Assignments.  You should have time to give around 10 minutes per question.\n",
    "\n",
    "- Note not all recommended tsconfig settings are active in the jupyter notebook environment.  This might be something to point out along the way.  The Day 3 lecture will about working with the tsconfig file and using a package.json\n",
    "\n",
    "- The last section on Non Null Assertion Operator has a link to TypeScript Playground. If you are having issues with that or just want a local copy, you can clone https://github.com/CodingTemple/nnao and from the root project directory run an npm install typescript in the terminal.\n",
    "\n",
    "\n",
    "- This notebook requires the typescript kernel from TSLab.  \n",
    "\n",
    "    - The jslab/ijavaScript kernels will not work for TypeScript.\n",
    "\n",
    "    - To change kernel Kernel>Change Kernel>TypeScript\n",
    "\n",
    "- The Kernel tends to crash, Restart then will crash eventually you'll get a pop up to reload the kernel again then it should work.\n",
    "\n",
    "- LET AND CONST will persist the entire document. Be careful with Variable names.\n",
    "\n",
    "    - Unlike with the iJavascript Kernel we can re-run a declaration cell without restarting our kernel!\n",
    "\n",
    "- This is the Instructors guide.  For STAFF ONLY.  It contains solutions to homework and exercises. and all code output\n",
    "\n",
    "- There Are Also Other Versions:\n",
    "\n",
    "    - Starter : this is for the instructor and student to fill out during lecture, no output\n",
    "\n",
    "    - Completed Student : this is for the students to follow along during lecture, it contains no solutions, but with code output from the lecture\n",
    "\n",
    "- For convenience I have included an Index using `<a>` tags so adding cells or moving the ordering won't affect anything unless the heading markdown doesn't move with the content"
   ]
  },
  {
   "cell_type": "markdown",
   "metadata": {},
   "source": [
    "[Intro To TS](#intro)<br>\n",
    "&emsp;[JS Built-in Types](#built)<br>\n",
    "&emsp;[Declaration](#declare)<br>\n",
    "&emsp;[Exercise #1](#ice1)<br>\n",
    "&emsp;[Implicit Types](#itype)<br>\n",
    "&emsp;[Arrays](#array)<br>\n",
    "&emsp;[Exercise #2](#ice2)<br>\n",
    "&emsp;[Exercise #3](#ice3)<br>\n",
    "&emsp;[Functions](#func)<br>\n",
    "&emsp;&emsp;[Return](#return)<br>\n",
    "&emsp;&emsp;[Exercise #4](#ice4)<br>\n",
    "&emsp;&emsp;[Arrow Functions](#arrow)<br>\n",
    "&emsp;&emsp;[Exercise #5](#ice5)<br>\n",
    "&emsp;&emsp;[Void](#void)<br>\n",
    "&emsp;&emsp;[Exercise #6](#ice6)<br>\n",
    "&emsp;[TS Built-in Types](#tstypes)<br>\n",
    "&emsp;&emsp;[any](#any)<br>\n",
    "&emsp;&emsp;[Exercise #7](#ice7)<br>\n",
    "&emsp;&emsp;[Tuple](#tuple)<br>\n",
    "&emsp;&emsp;[Exercise #8](#ice8)<br>\n",
    "&emsp;&emsp;[Enum](#enum)<br>\n",
    "&emsp;&emsp;[Exercise #9](#ice9)<br>\n",
    "&emsp;&emsp;[Unknown](#unknown)<br>\n",
    "&emsp;&emsp;[Type Guards](#guard)<br>\n",
    "&emsp;&emsp;[Exercise #10](#ice10)<br>\n",
    "&emsp;&emsp;[never](#never)<br>\n",
    "&emsp;[Objects](#obj)<br>\n",
    "&emsp;&emsp;[Exercise #11](#ice11)<br>\n",
    "&emsp;&emsp;[Type Alias](#type)<br>\n",
    "&emsp;&emsp;[Exercise #12](#ice12)<br>\n",
    "&emsp;&emsp;[readonly](#readonly)<br>\n",
    "&emsp;&emsp;[Optional Chaining](#opt)<br>\n",
    "&emsp;&emsp;[Objects with Methods](#objmeth)<br>\n",
    "&emsp;&emsp;[Exercise #13](#ice13)<br>\n",
    "&emsp;&emsp;[Union Types](#union)<br>\n",
    "&emsp;&emsp;[Exercise #14](#ice14)<br>\n",
    "&emsp;[as Keyword](#as)<br>\n",
    "&emsp;[Intersection Types](#intersec)<br>\n",
    "&emsp;[Exercise #15](#ice15)<br>\n",
    "&emsp;[Literal Types](#literal)<br>\n",
    "&emsp;[Exercise #16](#ice16)<br>\n",
    "&emsp;[Non-null assertion operator](#nnao)<br>\n",
    "&emsp;[Homework](#hw)<br>\n"
   ]
  },
  {
   "cell_type": "markdown",
   "metadata": {},
   "source": [
    "<a id=\"intro\"></a>\n",
    "# Intro To TypeScript"
   ]
  },
  {
   "cell_type": "markdown",
   "metadata": {},
   "source": [
    "TypeScript was developed in 2012 by Microsoft. As of Early 2023 the most current TypeScript version is 4.9, with 5.0 being in beta. (This notebook uses 4.1) TypeScript is what’s called a superset of JavaScript, meaning it encompasses everything that is JavaScript and it includes even more features.\n",
    "\n",
    "Typescript’s main feature is that it adds static typing to Vanilla JS.  JavaScript (and python) are called dynamically type languages, this means the data type of the variables isn't determined until runtime.  This is a recipe for disaster in complex applications.  When working with a dynamically typed language the errors don't show up until you try using your program and something goes wrong.  This makes finding and preventing errors a hassle.  Enter TypeScript, with a statically type language (like C++/Java/C#) the datatypes of the variables are declared and known at compile time (or before you actually run the program.)  That means, when you go to compile your code, you will get errors before ever running the program.  This also helps the itellisense (how VSCode or Jupyter Notebook gives you hints on methods and properties) know what options to give.  This makes the programmers life much easier.\n",
    "\n",
    "When you write a TypeScript (.ts) file you must compile that TS code.  The TS code is read by your computer and it compiles the TS code into new JavaScript files (.js).  This is the compilation step that will give you the type checking errors.  Once it is compiled into JS you can run the JS file like any other JS file.  You will also get a TS config file, in where, you can specify lots of rules that can change how TS checks your TS files. When working in Jupyter Notebook with the TS kernel, you won't see this compilation step however it is happening in the background.\n"
   ]
  },
  {
   "cell_type": "markdown",
   "metadata": {},
   "source": [
    "<a id=\"built\"></a>\n",
    "\n",
    "## Built-in Types"
   ]
  },
  {
   "cell_type": "markdown",
   "metadata": {},
   "source": [
    "JavaScript has seven built-in types: <b>null</b> , <b>undefined</b> , <b>boolean</b> , <b>number</b> , <b>string</b> , <b>object</b> , and <b>symbol</b> \n",
    "\n",
    "You should know these types already, except for symbol (don't worry about symbol)"
   ]
  },
  {
   "cell_type": "markdown",
   "metadata": {},
   "source": [
    "<a id=\"declare\"></a>\n",
    "\n",
    "### Declaring"
   ]
  },
  {
   "cell_type": "markdown",
   "metadata": {},
   "source": [
    "When declaring a variable you can set its type explicitly by adding a `:` then the name of the class.\n",
    "\n",
    "<b>Note:</b> The types are lower cased, Number and number and Boolean and boolean are not the same and will cause issues"
   ]
  },
  {
   "cell_type": "code",
   "execution_count": 1,
   "metadata": {},
   "outputs": [],
   "source": [
    "let anyType\n",
    "let typeString:string\n",
    "let typeNumber:number\n",
    "let typeBool:boolean\n",
    "let typeObj:object\n",
    "let typeNull:null\n",
    "let typeUndefined:undefined"
   ]
  },
  {
   "cell_type": "markdown",
   "metadata": {},
   "source": [
    "Without a type annotation we can reassign `anyType` to any type of variable"
   ]
  },
  {
   "cell_type": "code",
   "execution_count": null,
   "metadata": {},
   "outputs": [],
   "source": [
    "anyType=\"1\"\n",
    "anyType=123\n",
    "anyType={id:2}"
   ]
  },
  {
   "cell_type": "code",
   "execution_count": null,
   "metadata": {
    "scrolled": true
   },
   "outputs": [],
   "source": [
    "typeString=123 //Error"
   ]
  },
  {
   "cell_type": "code",
   "execution_count": null,
   "metadata": {},
   "outputs": [],
   "source": []
  },
  {
   "cell_type": "code",
   "execution_count": null,
   "metadata": {},
   "outputs": [],
   "source": [
    " //Error"
   ]
  },
  {
   "cell_type": "code",
   "execution_count": null,
   "metadata": {},
   "outputs": [],
   "source": []
  },
  {
   "cell_type": "markdown",
   "metadata": {},
   "source": [
    "<a id=\"ice1\"></a>\n",
    "\n",
    "## In-Class Exercise #1"
   ]
  },
  {
   "cell_type": "markdown",
   "metadata": {},
   "source": [
    "In the cells provided declare 3 variables `iceString` of type string `iceNumber` of type number `iceBool` of type boolean\n",
    "Then on seperate line assign those variables values of an appropriate"
   ]
  },
  {
   "cell_type": "code",
   "execution_count": null,
   "metadata": {},
   "outputs": [],
   "source": [
    "let iceString: string\n",
    "let  iceNumber: number\n",
    "let iceBool: boolean\n",
    "\n",
    "in"
   ]
  },
  {
   "cell_type": "markdown",
   "metadata": {},
   "source": [
    "<a id=\"itype\"></a>\n",
    "\n",
    "## Implicit Type Declaration"
   ]
  },
  {
   "cell_type": "markdown",
   "metadata": {},
   "source": [
    "When you declare and intialize a variable with TypeScript, it will implicitly add the type declaration for you"
   ]
  },
  {
   "cell_type": "code",
   "execution_count": 2,
   "metadata": {},
   "outputs": [],
   "source": [
    "let implicitlyTypedArray = [\"Na na na na\", \"na na na na\",\"hey hey\", \"Goodbye\"]"
   ]
  },
  {
   "cell_type": "code",
   "execution_count": 3,
   "metadata": {},
   "outputs": [
    {
     "name": "stderr",
     "output_type": "stream",
     "text": [
      "1:1 - Type 'string' is not assignable to type 'string[]'.\n"
     ]
    }
   ],
   "source": [
    "implicitlyTypedArray=\"new song\""
   ]
  },
  {
   "cell_type": "code",
   "execution_count": 4,
   "metadata": {
    "scrolled": true
   },
   "outputs": [
    {
     "name": "stderr",
     "output_type": "stream",
     "text": [
      "1:23 - Type 'number' is not assignable to type 'string'.\n",
      "1:25 - Type 'number' is not assignable to type 'string'.\n",
      "1:27 - Type 'number' is not assignable to type 'string'.\n",
      "1:29 - Type 'number' is not assignable to type 'string'.\n"
     ]
    }
   ],
   "source": [
    "implicitlyTypedArray=[1,2,3,4]"
   ]
  },
  {
   "cell_type": "markdown",
   "metadata": {},
   "source": [
    "The above example shows the `implicitlyTypedArray` was not declared to as an array (of strings) but TypeScript implicitly typed it based on the initial state of  `[\"Na na na na\", \"na na na na\",\"hey hey\", \"Goodbye\"]`"
   ]
  },
  {
   "cell_type": "markdown",
   "metadata": {},
   "source": [
    "<a id=\"array\"></a>\n",
    "\n",
    "## Array typing"
   ]
  },
  {
   "cell_type": "markdown",
   "metadata": {},
   "source": [
    "Arrays in TS need to be type set to an array, but not just and array, and arrays must declare the datatype of its member elements.  To do this we add the datatype of the elements in the array followed by `[]`.  Typically we only put the same datatype in an array."
   ]
  },
  {
   "cell_type": "code",
   "execution_count": 6,
   "metadata": {},
   "outputs": [],
   "source": [
    "let implicitlyTypedArray2: string[]"
   ]
  },
  {
   "cell_type": "code",
   "execution_count": 7,
   "metadata": {},
   "outputs": [
    {
     "name": "stderr",
     "output_type": "stream",
     "text": [
      "1:26 - Type 'number' is not assignable to type 'string'.\n",
      "1:28 - Type 'number' is not assignable to type 'string'.\n",
      "1:30 - Type 'number' is not assignable to type 'string'.\n",
      "1:32 - Type 'number' is not assignable to type 'string'.\n"
     ]
    }
   ],
   "source": [
    "implicitlyTypedArray2 = [1,2,3,4]"
   ]
  },
  {
   "cell_type": "code",
   "execution_count": 8,
   "metadata": {},
   "outputs": [
    {
     "name": "stdout",
     "output_type": "stream",
     "text": [
      "[ \u001b[32m'We'\u001b[39m, \u001b[32m'Will'\u001b[39m, \u001b[32m'We'\u001b[39m, \u001b[32m'Will'\u001b[39m, \u001b[32m'Rock'\u001b[39m, \u001b[32m'You'\u001b[39m ]\n"
     ]
    }
   ],
   "source": [
    "implicitlyTypedArray2 = [\"We\", \"Will\", \"We\", \"Will\", \"Rock\", \"You\"]"
   ]
  },
  {
   "cell_type": "markdown",
   "metadata": {},
   "source": [
    "<a id=\"ice2\"></a>\n",
    "\n",
    "## In-Class Exercise #2"
   ]
  },
  {
   "cell_type": "markdown",
   "metadata": {},
   "source": [
    "Create an array of nulls using explicit type checking called `arrayOfNulls`"
   ]
  },
  {
   "cell_type": "code",
   "execution_count": 11,
   "metadata": {},
   "outputs": [
    {
     "name": "stdout",
     "output_type": "stream",
     "text": [
      "[ \u001b[1mnull\u001b[22m, \u001b[1mnull\u001b[22m, \u001b[1mnull\u001b[22m ]\n"
     ]
    }
   ],
   "source": [
    "let arrayOfNulls: null[]\n",
    "arrayOfNulls = [null, null, null]"
   ]
  },
  {
   "cell_type": "markdown",
   "metadata": {},
   "source": [
    "#### Multiple Datatypes in Array"
   ]
  },
  {
   "cell_type": "markdown",
   "metadata": {},
   "source": [
    "We usually avoid putting multiple data types in an array if there is more than 2 elements because it gets hard to read and use.  If we want to do this we put inside bracket we state the datatype for each index of the array like so\n",
    "\n",
    "`let myVar:[datatypeOfIndex1, datatypeOfIndex2, datatypeOfIndex3, datatypeOfIndex4 ..ect]`"
   ]
  },
  {
   "cell_type": "code",
   "execution_count": 12,
   "metadata": {},
   "outputs": [],
   "source": [
    "let multitypedArray:[number, string, boolean, null]"
   ]
  },
  {
   "cell_type": "code",
   "execution_count": 13,
   "metadata": {},
   "outputs": [
    {
     "name": "stdout",
     "output_type": "stream",
     "text": [
      "[ \u001b[33m1\u001b[39m, \u001b[32m'string'\u001b[39m, \u001b[33mtrue\u001b[39m, \u001b[1mnull\u001b[22m ]\n"
     ]
    }
   ],
   "source": [
    "multitypedArray=[1,\"string\", true, null]"
   ]
  },
  {
   "cell_type": "markdown",
   "metadata": {},
   "source": [
    "The Order of the elements is critical"
   ]
  },
  {
   "cell_type": "code",
   "execution_count": 14,
   "metadata": {
    "scrolled": true
   },
   "outputs": [
    {
     "name": "stderr",
     "output_type": "stream",
     "text": [
      "1:18 - Type 'string' is not assignable to type 'number'.\n",
      "1:32 - Type 'number' is not assignable to type 'boolean'.\n",
      "1:34 - Type 'true' is not assignable to type 'null'.\n"
     ]
    }
   ],
   "source": [
    "multitypedArray=[\"string\",null,1,true]"
   ]
  },
  {
   "cell_type": "markdown",
   "metadata": {},
   "source": [
    "#### Multiple elements of unknown Length"
   ]
  },
  {
   "cell_type": "markdown",
   "metadata": {},
   "source": [
    "What if the array's first element is a string and then we have an unknown about of numbers?\n",
    "\n",
    "We will use the spread operator to say the second member of the array is an unpacked number array"
   ]
  },
  {
   "cell_type": "code",
   "execution_count": 16,
   "metadata": {},
   "outputs": [],
   "source": [
    "let unknownLengthArray:[string, ...number[]]"
   ]
  },
  {
   "cell_type": "code",
   "execution_count": 17,
   "metadata": {
    "scrolled": true
   },
   "outputs": [
    {
     "name": "stdout",
     "output_type": "stream",
     "text": [
      "[\n",
      "  \u001b[32m'John'\u001b[39m, \u001b[33m123\u001b[39m,\n",
      "  \u001b[33m567\u001b[39m,    \u001b[33m789\u001b[39m,\n",
      "  \u001b[33m1\u001b[39m,      \u001b[33m2\u001b[39m,\n",
      "  \u001b[33m3\u001b[39m\n",
      "]\n"
     ]
    }
   ],
   "source": [
    "unknownLengthArray = [\"John\", 123, 567, 789, 1, 2, 3]"
   ]
  },
  {
   "cell_type": "markdown",
   "metadata": {},
   "source": [
    "<strong>Note:</strong> This style means there could also be nothing in our unpacked number array, so the second index becomes optional"
   ]
  },
  {
   "cell_type": "code",
   "execution_count": 18,
   "metadata": {
    "scrolled": true
   },
   "outputs": [
    {
     "name": "stdout",
     "output_type": "stream",
     "text": [
      "[ \u001b[32m'Jean'\u001b[39m ]\n"
     ]
    }
   ],
   "source": [
    "unknownLengthArray = [\"Jean\"]"
   ]
  },
  {
   "cell_type": "markdown",
   "metadata": {},
   "source": [
    "<a id=\"ice3\"></a>\n",
    "\n",
    "## In-Class Exercise #3"
   ]
  },
  {
   "cell_type": "markdown",
   "metadata": {},
   "source": [
    "Create an array that starts with one number and then can hold any number of booleans and name it `stringBoolsArray` and assign it some values"
   ]
  },
  {
   "cell_type": "code",
   "execution_count": 22,
   "metadata": {},
   "outputs": [
    {
     "name": "stderr",
     "output_type": "stream",
     "text": [
      "1:28 - A rest element type must be an array type.\n"
     ]
    }
   ],
   "source": [
    "let numBoolsArray:[number, ...boolean]\n",
    "numBoolsArray = [10, true, false, false, true, true]"
   ]
  },
  {
   "cell_type": "raw",
   "metadata": {},
   "source": []
  },
  {
   "cell_type": "markdown",
   "metadata": {},
   "source": [
    "<a id=\"func\"></a>\n",
    "\n",
    "## TS and Intellisense, and Functions"
   ]
  },
  {
   "cell_type": "markdown",
   "metadata": {},
   "source": [
    "Typescript helps you with itellisense.  In Jupyter notebook you can press tab after writing a dot to see the availible methods.  This only works if the itellisense can determine what the datatype of the variable is.  Typescript introduces static typing to JS, so when using proper TS techniques the itellisense will know the type of data being past.\n",
    "\n",
    "Consider the examples below.  The first example is without static type checking.  note when you type `name.` and press `tab` you get no suggestions; This tells you that the compiler does not know the type of the name variable.\n",
    "\n",
    "Looking at the second example we annotate the name parameter to be of type string, now when you press tab after the `name.` you will see a list of availible string methods and properties.\n"
   ]
  },
  {
   "cell_type": "code",
   "execution_count": 23,
   "metadata": {},
   "outputs": [],
   "source": [
    "function nameLower(name){\n",
    "    name=name.toLowerCase()\n",
    "    return name\n",
    "    \n",
    "}"
   ]
  },
  {
   "cell_type": "code",
   "execution_count": null,
   "metadata": {},
   "outputs": [],
   "source": [
    "// apply typing to parameter by using a colon aftrer the parameter name\n",
    "// followed by the type we want the parameter to be\n",
    "function nameLower(name:string){\n",
    "    name=name.toLowerCase()\n",
    "    return name\n",
    "}"
   ]
  },
  {
   "cell_type": "markdown",
   "metadata": {},
   "source": [
    "<a id=\"return\"></a>\n",
    "\n",
    "## Declaring a Return Type"
   ]
  },
  {
   "cell_type": "markdown",
   "metadata": {},
   "source": [
    "Now lets use the returned string with and without return type annonations."
   ]
  },
  {
   "cell_type": "markdown",
   "metadata": {},
   "source": [
    "Using the same example we will see that the compiler knows the data type of name, once again we can easily verify this my trying the tab key."
   ]
  },
  {
   "cell_type": "code",
   "execution_count": 24,
   "metadata": {},
   "outputs": [
    {
     "name": "stdout",
     "output_type": "stream",
     "text": [
      "\u001b[33m4\u001b[39m\n"
     ]
    }
   ],
   "source": [
    "function nameLower(name:string){\n",
    "    name=name.toLowerCase()\n",
    "    return name\n",
    "}\n",
    "nameLower('JACK').length"
   ]
  },
  {
   "cell_type": "markdown",
   "metadata": {},
   "source": [
    "The compiler knows this is a string because we passed in a string and didn't do anything that may change its data type"
   ]
  },
  {
   "cell_type": "markdown",
   "metadata": {},
   "source": [
    "Let's try to confuse the compilier by adding an integer to our string.  This will cause the compiler not to know what the data type of our return is, once again we can test by press tab after the dot"
   ]
  },
  {
   "cell_type": "code",
   "execution_count": null,
   "metadata": {},
   "outputs": [],
   "source": [
    "function nameLower(name){\n",
    "    name=name.toLowerCase()\n",
    "    return name+2\n",
    "}\n",
    "nameLower('test').length"
   ]
  },
  {
   "cell_type": "markdown",
   "metadata": {},
   "source": [
    "#### Explicit Return Type"
   ]
  },
  {
   "cell_type": "markdown",
   "metadata": {},
   "source": [
    "Lets annotate the return type of this function, we will see now the compiler and our itellisense knows the return of the function is a string\n",
    "\n",
    "To annotate a return type on a regular function it looks like:\n",
    "```\n",
    "function funcName(params):ReturnType{}\n",
    "```"
   ]
  },
  {
   "cell_type": "code",
   "execution_count": 25,
   "metadata": {},
   "outputs": [
    {
     "name": "stdout",
     "output_type": "stream",
     "text": [
      "\u001b[33m5\u001b[39m\n"
     ]
    }
   ],
   "source": [
    "function nameLower(name:string):string{\n",
    "    name.toLowerCase()\n",
    "    return name+2\n",
    "}\n",
    "nameLower('test').length"
   ]
  },
  {
   "cell_type": "markdown",
   "metadata": {},
   "source": [
    "<a id=\"ice4\"></a>\n",
    "\n",
    "## In-Class Exercise #4"
   ]
  },
  {
   "cell_type": "markdown",
   "metadata": {},
   "source": [
    "Create a regular function that takes in two numbers and returns a string that says.\n",
    "```[firstnumber] plus [secondNumber] equals [FirstNumber plus SecondNumber]```\n",
    "\n",
    "Name the function `iceAddition`\n",
    "\n",
    "if we run `iceAddition(2,5)`\n",
    "\n",
    "the output should be :\n",
    "\n",
    "```\n",
    "\"2 plus 5 equals 7\"\n",
    "```\n",
    "\n",
    "Use Explicit type checking on the parameters and return type"
   ]
  },
  {
   "cell_type": "code",
   "execution_count": 28,
   "metadata": {},
   "outputs": [
    {
     "name": "stdout",
     "output_type": "stream",
     "text": [
      "2 plus 5 equals 7\n"
     ]
    }
   ],
   "source": [
    "function iceAddition(firstNumber, secondNumber ):string{\n",
    "    return `${firstNumber} plus ${secondNumber} equals ${firstNumber + secondNumber}`\n",
    "}\n",
    "\n",
    "iceAddition(2, 5)"
   ]
  },
  {
   "cell_type": "markdown",
   "metadata": {},
   "source": [
    "To annotate a return type on an arrow function it looks like:\n",
    "```\n",
    "const funcName=(params):ReturnType=>{}\n",
    "```"
   ]
  },
  {
   "cell_type": "code",
   "execution_count": 31,
   "metadata": {
    "scrolled": false
   },
   "outputs": [
    {
     "name": "stdout",
     "output_type": "stream",
     "text": [
      "CHEETOR THE MAXIMAL\n"
     ]
    }
   ],
   "source": [
    "const nameUpper=(name:string):string=>{\n",
    "    name.toUpperCase()\n",
    "    return name.toUpperCase()\n",
    "}\n",
    "nameUpper(\"cheetor the maximal\")"
   ]
  },
  {
   "cell_type": "markdown",
   "metadata": {},
   "source": [
    "<a id=\"ice5\"></a>\n",
    "\n",
    "## In-Class Exercise #5"
   ]
  },
  {
   "cell_type": "markdown",
   "metadata": {},
   "source": [
    "Create an Arrow function that takes in two numbers and returns a string that says.\n",
    "```[firstnumber] plus [secondNumber] equals [FirstNumber plus SecondNumber]```\n",
    "\n",
    "Name the function `iceAdditionArrow`\n",
    "\n",
    "if we run `iceAdditionArrow(2,5)`\n",
    "\n",
    "the output should be :\n",
    "\n",
    "```\n",
    "\"2 plus 5 equals 7\"\n",
    "```\n",
    "\n",
    "Use Explicit type checking on the parameters and return type"
   ]
  },
  {
   "cell_type": "code",
   "execution_count": 30,
   "metadata": {},
   "outputs": [
    {
     "name": "stdout",
     "output_type": "stream",
     "text": [
      "5 plus 19 equals 24\n"
     ]
    }
   ],
   "source": [
    "const iceAdditionArrow=(firstNumber:number, secondNumber:number):string=>{\n",
    "    let sum:number = firstNumber+secondNumber;\n",
    "    return `${firstNumber} plus ${secondNumber} equals ${sum}`;\n",
    "}\n",
    "iceAdditionArrow(5, 19)"
   ]
  },
  {
   "cell_type": "markdown",
   "metadata": {},
   "source": [
    "<a id=\"void\"></a>\n",
    "\n",
    "### Void Type"
   ]
  },
  {
   "cell_type": "markdown",
   "metadata": {},
   "source": [
    "Often our function return nothing, for this we can use the void type.  The term void to represent function without returns is ubiquitous in all languages.\n",
    "\n",
    "Note: returning `null` or `undefined` statisfies void "
   ]
  },
  {
   "cell_type": "code",
   "execution_count": 32,
   "metadata": {},
   "outputs": [
    {
     "name": "stdout",
     "output_type": "stream",
     "text": [
      "Hello Tinkie Winkie\n"
     ]
    }
   ],
   "source": [
    "function sayHello(name:string):void{\n",
    "    console.log(\"Hello\", name)\n",
    "}\n",
    "\n",
    "sayHello(\"Tinkie Winkie\")"
   ]
  },
  {
   "cell_type": "code",
   "execution_count": 33,
   "metadata": {
    "scrolled": true
   },
   "outputs": [
    {
     "name": "stderr",
     "output_type": "stream",
     "text": [
      "3:5 - Type 'number' is not assignable to type 'void'.\n"
     ]
    }
   ],
   "source": [
    "function sayHello(name:string):void{\n",
    "    console.log(\"Hello\", name)\n",
    "    return 123\n",
    "}\n",
    "\n",
    "sayHello(\"Tinkie Winkie\")"
   ]
  },
  {
   "cell_type": "markdown",
   "metadata": {},
   "source": [
    "<a id=\"ice6\"></a>\n",
    "\n",
    "## In-Class Exercise #6"
   ]
  },
  {
   "cell_type": "markdown",
   "metadata": {},
   "source": [
    "Create an arrow function that is named `iceVoid` and have that function print:\n",
    "\n",
    "`If I have a void I have nothing`\n",
    "\n",
    "Be sure to explicity type the function's return"
   ]
  },
  {
   "cell_type": "code",
   "execution_count": 34,
   "metadata": {},
   "outputs": [
    {
     "name": "stdout",
     "output_type": "stream",
     "text": [
      "If i have a voidwhich means there is nothing in my heart </3 I have nothing .... \n"
     ]
    }
   ],
   "source": [
    "const iceVoid =():void=>{\n",
    "    console.log(\"If i have a voidwhich means there is nothing in my heart </3 I have nothing .... \")\n",
    "}\n",
    "\n",
    "iceVoid()\n"
   ]
  },
  {
   "cell_type": "markdown",
   "metadata": {},
   "source": [
    "<a id=\"tstypes\"></a>\n",
    "\n",
    "## TypeScript Built in Types"
   ]
  },
  {
   "cell_type": "markdown",
   "metadata": {},
   "source": [
    "We have already mentioned JavaScript has seven built-in types: <b>null</b> , <b>undefined</b> , <b>boolean</b> , <b>number</b> , <b>string</b> , <b>object</b> , and <b>symbol</b> \n",
    "\n",
    "TypeScript adds to these types with: <b>unknown</b>, <b>any</b>, <b>tuple</b>, <b>enum</b>,<b> never</b> and more.\n",
    "\n",
    "Reference: [https://www.typescriptlang.org/docs/handbook/2/everyday-types.html]('https://www.typescriptlang.org/docs/handbook/2/everyday-types.html')"
   ]
  },
  {
   "cell_type": "markdown",
   "metadata": {},
   "source": [
    "<a id=\"any\"></a>\n",
    "\n",
    "### any type"
   ]
  },
  {
   "cell_type": "markdown",
   "metadata": {},
   "source": [
    "The any type means that the data can belong to any datatype.  Be very careful when using this datatype; it should be avoided at all costs.  Using the any type, may make your code easier to write, but you will lose all benefits of TypeScript.\n",
    "\n",
    "When you don't explicitly declare a type to a variable TS will implicitly assign it to any."
   ]
  },
  {
   "cell_type": "code",
   "execution_count": 35,
   "metadata": {
    "scrolled": true
   },
   "outputs": [
    {
     "name": "stdout",
     "output_type": "stream",
     "text": [
      "[ \u001b[33m1\u001b[39m, \u001b[32m'hello'\u001b[39m, \u001b[33mtrue\u001b[39m ]\n"
     ]
    }
   ],
   "source": [
    "let typeAny\n",
    "let anyType: any;\n",
    "anyType =\"hello\"\n",
    "anyType =1234\n",
    "anyType = [1, \"hello\", true]"
   ]
  },
  {
   "cell_type": "markdown",
   "metadata": {},
   "source": [
    "<a id=\"ice7\"></a>\n",
    "\n",
    "## In-Class Exercise #7"
   ]
  },
  {
   "cell_type": "markdown",
   "metadata": {},
   "source": [
    "In the cell below write `I will not use the any type unless absolutely necessary`"
   ]
  },
  {
   "cell_type": "code",
   "execution_count": null,
   "metadata": {},
   "outputs": [],
   "source": [
    "// I will not use the any type unless absolutely  necessary"
   ]
  },
  {
   "cell_type": "markdown",
   "metadata": {},
   "source": [
    "<a id=\"tuples\"></a>\n",
    "\n",
    "### Tuples"
   ]
  },
  {
   "cell_type": "markdown",
   "metadata": {},
   "source": [
    "A Tuple is a fixed length array where each element has a particular type.\n",
    "These are generally used for arrays with only 2 pieces of information, as they quickly become hard to read and manage."
   ]
  },
  {
   "cell_type": "code",
   "execution_count": 36,
   "metadata": {},
   "outputs": [
    {
     "name": "stdout",
     "output_type": "stream",
     "text": [
      "[ \u001b[33m1\u001b[39m, \u001b[32m'Red Nike Shoes'\u001b[39m ]\n"
     ]
    }
   ],
   "source": [
    "let product: [number, string]\n",
    "product= [1, \"Red Nike Shoes\"]"
   ]
  },
  {
   "cell_type": "code",
   "execution_count": 37,
   "metadata": {},
   "outputs": [
    {
     "name": "stderr",
     "output_type": "stream",
     "text": [
      "1:12 - Type 'string' is not assignable to type 'number'.\n",
      "1:30 - Type 'number' is not assignable to type 'string'.\n"
     ]
    }
   ],
   "source": [
    "product = [\"Red Nike Shoes\", 1]//Error\n"
   ]
  },
  {
   "cell_type": "code",
   "execution_count": 38,
   "metadata": {
    "scrolled": true
   },
   "outputs": [
    {
     "name": "stderr",
     "output_type": "stream",
     "text": [
      "1:1 - Type '[number, string, string]' is not assignable to type '[number, string]'.\n",
      "1:1 - Source has 3 element(s) but target allows only 2.\n"
     ]
    }
   ],
   "source": [
    "product= [1, \"Red Nike Shoes\", \"More info\"]//Error\n"
   ]
  },
  {
   "cell_type": "markdown",
   "metadata": {},
   "source": [
    "### ⚠️WARNING⚠️"
   ]
  },
  {
   "cell_type": "markdown",
   "metadata": {},
   "source": [
    "TypeScript isn't perfect when working with tuples and the push method will work, but this goes against the TS principlas and should never be done."
   ]
  },
  {
   "cell_type": "code",
   "execution_count": 41,
   "metadata": {
    "scrolled": false
   },
   "outputs": [
    {
     "name": "stdout",
     "output_type": "stream",
     "text": [
      "[ \u001b[33m1\u001b[39m, \u001b[32m'Yugioh Cards'\u001b[39m, \u001b[32m'pokemon cards'\u001b[39m ]\n"
     ]
    }
   ],
   "source": [
    "product.push(\"more info\") // this works but shouldn't!!!\n",
    "product\n",
    "\n",
    "product = [1, \"Yugioh Cards\"]\n",
    "product.push(\"pokemon cards\")\n",
    "product"
   ]
  },
  {
   "cell_type": "markdown",
   "metadata": {},
   "source": [
    "<a id=\"ice8\"></a>\n",
    "\n",
    "## In-Class Exercise #8"
   ]
  },
  {
   "cell_type": "markdown",
   "metadata": {},
   "source": [
    "Create an appropriate tuple named `iceTuple` that contains the values `true` `undefined`"
   ]
  },
  {
   "cell_type": "code",
   "execution_count": 42,
   "metadata": {},
   "outputs": [
    {
     "name": "stdout",
     "output_type": "stream",
     "text": [
      "[ \u001b[33mtrue\u001b[39m, \u001b[90mundefined\u001b[39m ]\n"
     ]
    }
   ],
   "source": [
    "let iceTuple:[boolean, undefined]\n",
    "iceTuple= [true, undefined]"
   ]
  },
  {
   "cell_type": "markdown",
   "metadata": {},
   "source": [
    "<a id=\"enum\"></a>\n",
    "\n",
    "### Enum Type"
   ]
  },
  {
   "cell_type": "markdown",
   "metadata": {},
   "source": [
    "Enums are used when there are highly related constants.\n",
    "\n",
    "To create an enum we use the syntax\n",
    "\n",
    "`enum NameOfEnum {key, key, key}`\n",
    "\n",
    "<b>Note: </b> Notice there is no equal sign\n",
    "\n",
    "Enums should be named using PascalCase\n",
    "\n",
    "By default each member of the enums value will be the index position of that value (starts at 0)"
   ]
  },
  {
   "cell_type": "code",
   "execution_count": 45,
   "metadata": {},
   "outputs": [
    {
     "name": "stdout",
     "output_type": "stream",
     "text": [
      "\u001b[33m0\u001b[39m\n",
      "\u001b[33m1\u001b[39m\n"
     ]
    }
   ],
   "source": [
    "enum Size {Small, Medium, Large}\n",
    "console.log(Size.Small)\n",
    "\n",
    "let mySize: Size = Size.Medium\n",
    "\n",
    "console.log(mySize)"
   ]
  },
  {
   "cell_type": "markdown",
   "metadata": {},
   "source": [
    "We can start at a different number other than 0 by setting a number on the first element.  The following elements value with be incremented by one"
   ]
  },
  {
   "cell_type": "code",
   "execution_count": 47,
   "metadata": {
    "scrolled": true
   },
   "outputs": [
    {
     "name": "stdout",
     "output_type": "stream",
     "text": [
      "\u001b[33m5\u001b[39m\n",
      "\u001b[33m6\u001b[39m\n",
      "\u001b[33m7\u001b[39m\n",
      "\u001b[33m7\u001b[39m\n"
     ]
    }
   ],
   "source": [
    "enum Size {Small=5, Medium, Large}\n",
    "console.log(Size.Small)\n",
    "console.log(Size.Medium)\n",
    "console.log(Size.Large)\n",
    "\n",
    "let mySize2: Size = Size.Large\n",
    "console.log(mySize2)"
   ]
  },
  {
   "cell_type": "markdown",
   "metadata": {},
   "source": [
    "#### Explicitly setting enum values"
   ]
  },
  {
   "cell_type": "markdown",
   "metadata": {},
   "source": [
    "We can explicitly set the enum values to other types, but when we do this we must assign every single element a value. "
   ]
  },
  {
   "cell_type": "code",
   "execution_count": 52,
   "metadata": {},
   "outputs": [
    {
     "name": "stdout",
     "output_type": "stream",
     "text": [
      "S\n",
      "M\n"
     ]
    }
   ],
   "source": [
    "enum Size {Small='S', Medium='M', Large='L'}\n",
    "console.log(Size.Small)\n",
    "\n",
    "let mySize3: Size = Size.Medium\n",
    "console.log(mySize3)\n"
   ]
  },
  {
   "cell_type": "code",
   "execution_count": 53,
   "metadata": {},
   "outputs": [
    {
     "name": "stderr",
     "output_type": "stream",
     "text": [
      "1:5 - Type '\"L\"' is not assignable to type 'Size'.\n"
     ]
    }
   ],
   "source": [
    "let mySize4: Size = \"L\"\n",
    "console.log(mySize4)"
   ]
  },
  {
   "cell_type": "markdown",
   "metadata": {},
   "source": [
    "<a id=\"ice9\"></a>\n",
    "\n",
    "## In-Class Exercise #9"
   ]
  },
  {
   "cell_type": "markdown",
   "metadata": {},
   "source": [
    "Create an enum type to represent The different football teams that can be on the field.\n",
    "\n",
    "`offense` `defense` and `specialTeams`\n",
    "\n",
    "They should be represented by `O`,`D`, and `ST` respectively\n",
    "\n",
    "name the enum `IceEnum`\n",
    "\n",
    "use the Ice Enum to print `ST O D`"
   ]
  },
  {
   "cell_type": "code",
   "execution_count": 55,
   "metadata": {},
   "outputs": [
    {
     "name": "stdout",
     "output_type": "stream",
     "text": [
      "Halo o D ST\n"
     ]
    }
   ],
   "source": [
    "enum IceEnum {Offense=\"o\", Deffense =\"D\", specialTeams=\"ST\"}\n",
    "console.log(\"Halo\", IceEnum.Offense, IceEnum.Deffense, IceEnum.specialTeams)"
   ]
  },
  {
   "cell_type": "markdown",
   "metadata": {},
   "source": [
    "<a id=\"unknown\"></a>\n",
    "\n",
    "### Unknown Type"
   ]
  },
  {
   "cell_type": "markdown",
   "metadata": {},
   "source": [
    "The Unknown type is similar to the any type, but it will enforce type checking.  In order to use an Unknown type we must use a Type Guard to perform narrowing."
   ]
  },
  {
   "cell_type": "markdown",
   "metadata": {},
   "source": [
    "#### With any"
   ]
  },
  {
   "cell_type": "markdown",
   "metadata": {},
   "source": [
    "We see here no compilation error, yet the person parameter has no guarentee it has the abilities to walk and talk"
   ]
  },
  {
   "cell_type": "code",
   "execution_count": null,
   "metadata": {},
   "outputs": [],
   "source": [
    "function myUnknownFunction(person:any){\n",
    "    person.walk()\n",
    "    person.talk()\n",
    "}"
   ]
  },
  {
   "cell_type": "markdown",
   "metadata": {},
   "source": [
    "#### With Unknown"
   ]
  },
  {
   "cell_type": "markdown",
   "metadata": {},
   "source": [
    "The person parameter is now annotated as unknown and we see we get a compilation error when trying to use this code"
   ]
  },
  {
   "cell_type": "code",
   "execution_count": null,
   "metadata": {},
   "outputs": [],
   "source": [
    "function myUnknownFunction(person:unknown){\n",
    "    person.walk()\n",
    "    person.talk()\n",
    "}"
   ]
  },
  {
   "cell_type": "markdown",
   "metadata": {},
   "source": [
    "<a id=\"guard\"></a>\n",
    "\n",
    "#### Type Narrowing"
   ]
  },
  {
   "cell_type": "markdown",
   "metadata": {},
   "source": [
    "To be able to use the unknown type we must first create our <b>Type Guard</b>.  This will narrow down the datatype so you can perform approiate actions.\n",
    "\n",
    "<strong>Note: </strong> This also allows the itellisense to kick in and give suggestions"
   ]
  },
  {
   "cell_type": "code",
   "execution_count": 56,
   "metadata": {
    "scrolled": true
   },
   "outputs": [
    {
     "name": "stdout",
     "output_type": "stream",
     "text": [
      "walking\n",
      "talking\n",
      "This is not a Person Object\n"
     ]
    }
   ],
   "source": [
    "class Person{\n",
    "    walk(){console.log('walking')}\n",
    "    talk(){console.log('talking')}\n",
    "}\n",
    "\n",
    "function myUnknownFunction(person:unknown){\n",
    "    if (person instanceof Person){\n",
    "        person.walk()\n",
    "        person.talk()   \n",
    "    }else{\n",
    "        console.log(\"This is not a Person Object\")\n",
    "    }\n",
    "}\n",
    "\n",
    "let jimmy = new Person()\n",
    "myUnknownFunction(jimmy)\n",
    "\n",
    "myUnknownFunction(\"something else\")"
   ]
  },
  {
   "cell_type": "markdown",
   "metadata": {},
   "source": [
    "<a id=\"ice10\"></a>\n",
    "\n",
    "## In-Class Exercise #10"
   ]
  },
  {
   "cell_type": "markdown",
   "metadata": {},
   "source": [
    "Create a function that uses an unknown type parameter and implement a type guard.\n",
    "\n",
    "- If the parameter is a number we want the function to return the number sqaured\n",
    "\n",
    "- If the parameter is a string we want the function to return the string in uppercase letters\n",
    "\n",
    "- If the parameter is a boolean we want the function to return \"Its on\" if the boolean is true and \"Its off\" if the boolean is false\n",
    "\n",
    "- If the parameter is of any other type just return the parameter\n",
    "\n",
    "Name the function `iceGuard`\n",
    "\n",
    "Test your function for all 4 use cases"
   ]
  },
  {
   "cell_type": "code",
   "execution_count": 113,
   "metadata": {},
   "outputs": [
    {
     "name": "stderr",
     "output_type": "stream",
     "text": [
      "1:26 - Cannot find name 'unknow'.\n",
      "1:34 - '=>' expected.\n",
      "5:16 - Cannot find name 'imput'. Did you mean 'input'?\n",
      "7:16 - Cannot find name 'imput'. Did you mean 'input'?\n"
     ]
    }
   ],
   "source": [
    "const iceGuard = (input: unknow) {\n",
    "    if (typeof input === \"number\"){\n",
    "        return input**2\n",
    "    }else if (typeof input === \"string\"){\n",
    "        return imput.toUpperCase();\n",
    "    }else if (typeof input ===\"boolean\"){\n",
    "        return imput ? \"it's On\" : \"Its off\"\n",
    "    }else{\n",
    "        return input;\n",
    "    }\n",
    "}\n",
    "console.log(iceGuard(3))\n",
    "console.log(iceGuard(\"Eat your veggies\"))\n",
    "console.log(iceGuard(false))\n",
    "console.log(iceGuard(true))\n",
    "console.log([1,2,3,4,5])"
   ]
  },
  {
   "cell_type": "markdown",
   "metadata": {},
   "source": [
    "<a id=\"never\"></a>\n",
    "\n",
    "## Never Type"
   ]
  },
  {
   "cell_type": "markdown",
   "metadata": {},
   "source": [
    "This is a rarely used Type, and generally used as a return type from a function.\n",
    "\n",
    "The never type is used to denote that a function never returns.  This means the function runs infintely, like a web server.\n",
    "\n",
    "I recommend not invoking (calling) the `myNeverFunction` as it is an in\n",
    "finite loop and may crash your notebook.  The example is to show you the use of `never`"
   ]
  },
  {
   "cell_type": "code",
   "execution_count": 60,
   "metadata": {},
   "outputs": [],
   "source": [
    "function myNeverFunction():never{\n",
    "    console.log(\"This function is running...\")\n",
    "    while (true){\n",
    "        var x=1\n",
    "    }\n",
    "}"
   ]
  },
  {
   "cell_type": "markdown",
   "metadata": {},
   "source": [
    "<a id=\"obj\"></a>\n",
    "\n",
    "# Objects and TS"
   ]
  },
  {
   "cell_type": "markdown",
   "metadata": {},
   "source": [
    "Object are a built-in type from JS, but working with them in TS can be a little different we will go over a few ways to work with Objects in TS."
   ]
  },
  {
   "cell_type": "markdown",
   "metadata": {},
   "source": [
    "When declaring an Object TS will implictly force your object to maintain its \"shape\".  This means you can not dynamically add properties to your objects like you can in JS, and when you change a property is has to have the correct datatype.\n",
    "\n",
    "When we talk about the \"shape\" of an object we are talking about is keys, types, and methods."
   ]
  },
  {
   "cell_type": "code",
   "execution_count": 61,
   "metadata": {},
   "outputs": [
    {
     "name": "stderr",
     "output_type": "stream",
     "text": [
      "2:10 - Property 'name' does not exist on type '{ id: number; }'.\n"
     ]
    }
   ],
   "source": [
    "let student1={id:1}\n",
    "student1.name=\"Alfonzo\"\n",
    "\n",
    "//Error because name:string is not part of our shape"
   ]
  },
  {
   "cell_type": "code",
   "execution_count": 62,
   "metadata": {},
   "outputs": [
    {
     "name": "stdout",
     "output_type": "stream",
     "text": [
      "{ id: \u001b[33m2\u001b[39m, name: \u001b[32m'Reginald'\u001b[39m }\n"
     ]
    }
   ],
   "source": [
    "let student2={id:2, name:\"Alfonzo\"}\n",
    "student2.name=\"Reginald\"\n",
    "student2"
   ]
  },
  {
   "cell_type": "code",
   "execution_count": 64,
   "metadata": {},
   "outputs": [],
   "source": [
    "let student2: {\n",
    "    id:number,\n",
    "    name:string\n",
    "} ={id:1, name:\"Janet\"}\n",
    "\n",
    "let studentName:string =\"Ben\""
   ]
  },
  {
   "cell_type": "code",
   "execution_count": null,
   "metadata": {},
   "outputs": [],
   "source": [
    "//error"
   ]
  },
  {
   "cell_type": "code",
   "execution_count": null,
   "metadata": {
    "scrolled": true
   },
   "outputs": [],
   "source": []
  },
  {
   "cell_type": "markdown",
   "metadata": {},
   "source": [
    "<a id=\"ice11\"></a>\n",
    "\n",
    "## In-Class Exercise #11"
   ]
  },
  {
   "cell_type": "markdown",
   "metadata": {},
   "source": [
    "Define the shape and the values for an object name `iceMan`\n",
    "\n",
    "Ice man should have:\n",
    "\n",
    "- a id that is a number\n",
    "\n",
    "- a name that is a string\n",
    "\n",
    "- a wasFrozen property that is a boolean on whether or not our iceMan was ever frozen in time"
   ]
  },
  {
   "cell_type": "code",
   "execution_count": 66,
   "metadata": {},
   "outputs": [
    {
     "name": "stdout",
     "output_type": "stream",
     "text": [
      "{ id: \u001b[33m5\u001b[39m, name: \u001b[32m'Angelica'\u001b[39m, wasFrozen: \u001b[33mtrue\u001b[39m }\n"
     ]
    }
   ],
   "source": [
    "let iceMan:{\n",
    "    id:number,\n",
    "    name:string,\n",
    "    wasFrozen: boolean\n",
    "}\n",
    "iceMan = {id:5, name:\"Angelica\", wasFrozen: true}\n",
    "\n",
    "iceMan"
   ]
  },
  {
   "cell_type": "markdown",
   "metadata": {},
   "source": [
    "<a id=\"type\"></a>\n",
    "\n",
    "## Type Aliases"
   ]
  },
  {
   "cell_type": "markdown",
   "metadata": {},
   "source": [
    "The above way to work with objects is a bit cumbersome.  There is an easier way using a type alias, which allows you to predefine the shape and reuse this shape.\n",
    "\n",
    "The type's name should be written in PascalCase"
   ]
  },
  {
   "cell_type": "code",
   "execution_count": 67,
   "metadata": {},
   "outputs": [],
   "source": [
    "// type keyword name of alias\n",
    "type Student ={\n",
    "    id:number,\n",
    "    name:string\n",
    "    \n",
    "}\n"
   ]
  },
  {
   "cell_type": "code",
   "execution_count": 68,
   "metadata": {},
   "outputs": [
    {
     "name": "stdout",
     "output_type": "stream",
     "text": [
      "{ id: \u001b[33m3\u001b[39m, name: \u001b[32m'Dale'\u001b[39m }\n"
     ]
    }
   ],
   "source": [
    "let studentTyped:Student={\n",
    "    id:3,\n",
    "    name:\"Dale\"\n",
    "}\n",
    "studentTyped"
   ]
  },
  {
   "cell_type": "code",
   "execution_count": 69,
   "metadata": {},
   "outputs": [
    {
     "name": "stdout",
     "output_type": "stream",
     "text": [
      "{ id: \u001b[33m1\u001b[39m, name: \u001b[32m'Janet'\u001b[39m }\n"
     ]
    }
   ],
   "source": [
    "let student1:Student={\n",
    "    id:4,\n",
    "    name:\"Elliot\"\n",
    "}\n",
    "student2"
   ]
  },
  {
   "cell_type": "code",
   "execution_count": 70,
   "metadata": {},
   "outputs": [
    {
     "name": "stderr",
     "output_type": "stream",
     "text": [
      "1:1 - Type 'number' is not assignable to type 'string'.\n"
     ]
    }
   ],
   "source": [
    "studentTyped.name=123"
   ]
  },
  {
   "cell_type": "code",
   "execution_count": 71,
   "metadata": {},
   "outputs": [
    {
     "name": "stderr",
     "output_type": "stream",
     "text": [
      "1:14 - Property 'lastName' does not exist on type 'Student'.\n"
     ]
    }
   ],
   "source": [
    "studentTyped.lastName=\"Bojiggidy\""
   ]
  },
  {
   "cell_type": "markdown",
   "metadata": {},
   "source": [
    "<a id=\"ice12\"></a>\n",
    "\n",
    "## In-Class Exercise #12"
   ]
  },
  {
   "cell_type": "markdown",
   "metadata": {},
   "source": [
    "Define the type for an our iceMan we made in the last example and name the type `IceManType`  Then create 3 iceMen called `iceMan1` `iceman2` and `iceMan3`.\n",
    "\n",
    "Ice man should have:\n",
    "\n",
    "- a id that is a number\n",
    "\n",
    "- a name that is a string\n",
    "\n",
    "- a wasFrozen property that is a boolean on whether or not our iceMan was ever frozen in time"
   ]
  },
  {
   "cell_type": "code",
   "execution_count": null,
   "metadata": {},
   "outputs": [],
   "source": [
    "type IceNamType = {\n",
    "    id: number,\n",
    "    name:string,\n",
    "    wasForzen: boolean\n",
    "}\n",
    "\n",
    "let icePerson1: IceManType = {\n",
    "    id:4,\n",
    "    name:\"Gertrude\",\n",
    "    wasForzen: false\n",
    "    \n",
    "}\n",
    "let icePerson2: IceManType = {\n",
    "    id:7,\n",
    "    name: \"Nemuriko\"string,\n",
    "    name: \n",
    "}"
   ]
  },
  {
   "cell_type": "markdown",
   "metadata": {},
   "source": [
    "<a id=\"readonly\"></a>\n",
    "\n",
    "#### readonly"
   ]
  },
  {
   "cell_type": "markdown",
   "metadata": {},
   "source": [
    "Sometime there are properties of an object that should never change, for instance an id should never be changed.  This rule can be enforced with the `readonly` keyword"
   ]
  },
  {
   "cell_type": "code",
   "execution_count": 72,
   "metadata": {},
   "outputs": [],
   "source": [
    "type StudentRO ={\n",
    "    readonly id:number,\n",
    "    name:string\n",
    "}"
   ]
  },
  {
   "cell_type": "code",
   "execution_count": 73,
   "metadata": {},
   "outputs": [
    {
     "name": "stdout",
     "output_type": "stream",
     "text": [
      "{ id: \u001b[33m3\u001b[39m, name: \u001b[32m'Dale'\u001b[39m }\n"
     ]
    }
   ],
   "source": [
    "let studentReadOnly:StudentRO={\n",
    "    id:3,\n",
    "    name:\"Dale\"\n",
    "}\n",
    "studentReadOnly"
   ]
  },
  {
   "cell_type": "code",
   "execution_count": 74,
   "metadata": {},
   "outputs": [
    {
     "name": "stderr",
     "output_type": "stream",
     "text": [
      "1:17 - Cannot assign to 'id' because it is a read-only property.\n"
     ]
    }
   ],
   "source": [
    "studentReadOnly.id = 123"
   ]
  },
  {
   "cell_type": "markdown",
   "metadata": {},
   "source": [
    "<a id=\"opt\"></a>\n",
    "\n",
    "#### Optional fields"
   ]
  },
  {
   "cell_type": "markdown",
   "metadata": {},
   "source": [
    "Sometime you also have fields that should be optional, and not required to add in, like a Fax Number or Address Line 2.  This can be denoted using the `?`"
   ]
  },
  {
   "cell_type": "code",
   "execution_count": 75,
   "metadata": {},
   "outputs": [],
   "source": [
    "type StudentOF ={\n",
    "    readonly id:number,\n",
    "    name:string,\n",
    "    fax?:string\n",
    "}"
   ]
  },
  {
   "cell_type": "code",
   "execution_count": 76,
   "metadata": {},
   "outputs": [
    {
     "name": "stdout",
     "output_type": "stream",
     "text": [
      "{ id: \u001b[33m3\u001b[39m, name: \u001b[32m'Santa'\u001b[39m }\n"
     ]
    }
   ],
   "source": [
    "let studentOF:StudentOF={\n",
    "    id:3,\n",
    "    name:\"Santa\"\n",
    "}\n",
    "studentOF"
   ]
  },
  {
   "cell_type": "code",
   "execution_count": 77,
   "metadata": {},
   "outputs": [
    {
     "name": "stdout",
     "output_type": "stream",
     "text": [
      "{ id: \u001b[33m3\u001b[39m, name: \u001b[32m'Santa'\u001b[39m, fax: \u001b[32m'123-123-4567'\u001b[39m }\n"
     ]
    }
   ],
   "source": [
    "studentOF.fax=\"123-123-4567\"\n",
    "studentOF\n"
   ]
  },
  {
   "cell_type": "markdown",
   "metadata": {},
   "source": [
    "<a id=\"objmeth\"></a>\n",
    "\n",
    "#### methods"
   ]
  },
  {
   "cell_type": "markdown",
   "metadata": {},
   "source": [
    "Types can also include methods that should be implemented."
   ]
  },
  {
   "cell_type": "code",
   "execution_count": null,
   "metadata": {},
   "outputs": [],
   "source": [
    "type StudentMethod={\n",
    "    readonly id:number,\n",
    "    name:string,\n",
    "    fax?:string,\n",
    "    sayHello:(name:string)=>string\n",
    "}"
   ]
  },
  {
   "cell_type": "code",
   "execution_count": 79,
   "metadata": {},
   "outputs": [
    {
     "name": "stderr",
     "output_type": "stream",
     "text": [
      "1:14 - Cannot find name 'StudentMethod'.\n",
      "1:14 - Exported variable 'studentM' has or is using private name 'StudentMethod'.\n"
     ]
    }
   ],
   "source": [
    "let studentM:StudentMethod={\n",
    "    id:6,\n",
    "    name:\"Snoopy\",\n",
    "    fax: \"456-796-6542\",\n",
    "    sayHello:(name)=>{\n",
    "        return \"Hello \"+name\n",
    "    }\n",
    "}\n",
    "studentM.sayHello(\"john\")"
   ]
  },
  {
   "cell_type": "code",
   "execution_count": null,
   "metadata": {},
   "outputs": [],
   "source": [
    "studentM.sayHello(123)"
   ]
  },
  {
   "cell_type": "markdown",
   "metadata": {},
   "source": [
    "<a id=\"ice13\"></a>\n",
    "\n",
    "## In-Class Exercise #13"
   ]
  },
  {
   "cell_type": "markdown",
   "metadata": {},
   "source": [
    "Create a type `IceShoeType` and 1 member of this type `iceShoe`\n",
    "\n",
    "all IceProducts must meet the following requirements\n",
    "\n",
    "- has readonly id field\n",
    "- has size (i.e. 7, 8, 11)\n",
    "- has a name\n",
    "- has an Optional value to describe if is the product has a wide version\n",
    "- has a description"
   ]
  },
  {
   "cell_type": "code",
   "execution_count": null,
   "metadata": {},
   "outputs": [],
   "source": []
  },
  {
   "cell_type": "markdown",
   "metadata": {},
   "source": [
    "<a id=\"union\"></a>\n",
    "\n",
    "### Union Types"
   ]
  },
  {
   "cell_type": "markdown",
   "metadata": {},
   "source": [
    "We can assign a variable multiple types, instead of just one.  This is great when the value could have multiple datatype.   This is done with the union operator `|` which is the pipe key"
   ]
  },
  {
   "cell_type": "code",
   "execution_count": 81,
   "metadata": {},
   "outputs": [],
   "source": [
    "let multipleTyped: string|null"
   ]
  },
  {
   "cell_type": "code",
   "execution_count": 82,
   "metadata": {},
   "outputs": [
    {
     "name": "stdout",
     "output_type": "stream",
     "text": [
      "hello\n"
     ]
    }
   ],
   "source": [
    "multipleTyped=\"hello\""
   ]
  },
  {
   "cell_type": "code",
   "execution_count": 83,
   "metadata": {},
   "outputs": [
    {
     "name": "stdout",
     "output_type": "stream",
     "text": [
      "\u001b[1mnull\u001b[22m\n"
     ]
    }
   ],
   "source": [
    "multipleTyped= null\n",
    "console.log(multipleTyped)\n"
   ]
  },
  {
   "cell_type": "code",
   "execution_count": 84,
   "metadata": {
    "scrolled": true
   },
   "outputs": [
    {
     "name": "stderr",
     "output_type": "stream",
     "text": [
      "1:1 - Type 'number' is not assignable to type 'string'.\n"
     ]
    }
   ],
   "source": [
    "multipleTyped=123"
   ]
  },
  {
   "cell_type": "markdown",
   "metadata": {},
   "source": [
    "#### Union Types with Function"
   ]
  },
  {
   "cell_type": "markdown",
   "metadata": {},
   "source": [
    "We using a union type for parameters, one must enable a <b>type guard</b>"
   ]
  },
  {
   "cell_type": "code",
   "execution_count": 85,
   "metadata": {},
   "outputs": [
    {
     "name": "stderr",
     "output_type": "stream",
     "text": [
      "2:12 - The left-hand side of an arithmetic operation must be of type 'any', 'number', 'bigint' or an enum type.\n"
     ]
    }
   ],
   "source": [
    "function inchesToCm(length:string|number):number{\n",
    "    return length*2.54\n",
    "}\n",
    "\n",
    "inchesToCm(12)"
   ]
  },
  {
   "cell_type": "code",
   "execution_count": 86,
   "metadata": {},
   "outputs": [],
   "source": [
    "function inchesToCm(length:string|number):number{\n",
    "    if (typeof length===\"string\"){\n",
    "        return parseFloat(length)*2.54\n",
    "    }\n",
    "    else{\n",
    "        return length*2.54\n",
    "    }\n",
    "}\n"
   ]
  },
  {
   "cell_type": "code",
   "execution_count": 87,
   "metadata": {},
   "outputs": [
    {
     "name": "stdout",
     "output_type": "stream",
     "text": [
      "\u001b[33m30.988\u001b[39m\n"
     ]
    }
   ],
   "source": [
    "inchesToCm(\"12.2\")"
   ]
  },
  {
   "cell_type": "code",
   "execution_count": 88,
   "metadata": {},
   "outputs": [
    {
     "name": "stdout",
     "output_type": "stream",
     "text": [
      "\u001b[33m30.988\u001b[39m\n"
     ]
    }
   ],
   "source": [
    "inchesToCm(12.2)"
   ]
  },
  {
   "cell_type": "code",
   "execution_count": 89,
   "metadata": {},
   "outputs": [
    {
     "name": "stderr",
     "output_type": "stream",
     "text": [
      "1:12 - Argument of type 'boolean' is not assignable to parameter of type 'string | number'.\n"
     ]
    }
   ],
   "source": [
    "inchesToCm(true)"
   ]
  },
  {
   "cell_type": "markdown",
   "metadata": {},
   "source": [
    "<a id=\"ice14\"></a>\n",
    "\n",
    "## In-Class Exercise #14"
   ]
  },
  {
   "cell_type": "markdown",
   "metadata": {},
   "source": [
    "Create a function that takes one parameter that can be either a boolean or a string.  Using a type guard have the function return back the boolean or have it return true/false if the string starts with a `\"c\" or \"C\"`\n",
    "\n",
    "Be sure to use type annonations to enforce your parameter types and the functions return type\n",
    "\n",
    "Name the function `ice13`"
   ]
  },
  {
   "cell_type": "code",
   "execution_count": null,
   "metadata": {},
   "outputs": [],
   "source": []
  },
  {
   "cell_type": "markdown",
   "metadata": {},
   "source": [
    "<a id=\"as\"></a>\n",
    "\n",
    "### As Keyword"
   ]
  },
  {
   "cell_type": "markdown",
   "metadata": {},
   "source": [
    "The `as` keyword tells Typescript to treat a variable like its a member of a certain type.\n",
    "\n",
    "You can solve many problems using `as any`, but this is considered bad practice and should be avoided"
   ]
  },
  {
   "cell_type": "code",
   "execution_count": 90,
   "metadata": {},
   "outputs": [
    {
     "name": "stderr",
     "output_type": "stream",
     "text": [
      "2:25 - Argument of type 'string | number' is not assignable to parameter of type 'string'.\n",
      "2:25 - Type 'number' is not assignable to type 'string'.\n"
     ]
    }
   ],
   "source": [
    "function contrivedAs(arr:string[], value:string|number):boolean{\n",
    "    return arr.includes(value)\n",
    "}\n",
    "console.log(contrivedAs([\"Python\",\"TypeScript\", \"JavaScript\"], \"TypeScript\"))\n",
    "console.log(contrivedAs([\"Python\",\"TypeScript\", \"JavaScript\"], 123))"
   ]
  },
  {
   "cell_type": "code",
   "execution_count": 91,
   "metadata": {},
   "outputs": [
    {
     "name": "stdout",
     "output_type": "stream",
     "text": [
      "\u001b[33mtrue\u001b[39m\n",
      "\u001b[33mfalse\u001b[39m\n"
     ]
    }
   ],
   "source": [
    "function contrivedAs(arr:string[], value:string|number):boolean{\n",
    "    return arr.includes(value as string)\n",
    "}\n",
    "console.log(contrivedAs([\"Python\",\"TypeScript\", \"JavaScript\"], \"TypeScript\"))\n",
    "console.log(contrivedAs([\"Python\",\"TypeScript\", \"JavaScript\"], 123))"
   ]
  },
  {
   "cell_type": "markdown",
   "metadata": {},
   "source": [
    "<a id=\"intersec\"></a>\n",
    "\n",
    "### Intersection Types"
   ]
  },
  {
   "cell_type": "markdown",
   "metadata": {},
   "source": [
    "We can make new types by combining old types using an intersection and the `&`\n",
    "\n",
    "<b>Note: </b> Two types can be combined if they don't share a common key with different type.  So that means both types can have an id field as long as the id field is defined as the same type (say number) in both original classes"
   ]
  },
  {
   "cell_type": "code",
   "execution_count": 93,
   "metadata": {},
   "outputs": [
    {
     "name": "stdout",
     "output_type": "stream",
     "text": [
      "{\n",
      "  id: \u001b[33m109\u001b[39m,\n",
      "  x: \u001b[33m5\u001b[39m,\n",
      "  y: \u001b[33m5\u001b[39m,\n",
      "  width: \u001b[33m400\u001b[39m,\n",
      "  height: \u001b[33m200\u001b[39m,\n",
      "  move: \u001b[36m[Function: move]\u001b[39m,\n",
      "  resize: \u001b[36m[Function: resize]\u001b[39m\n",
      "}\n"
     ]
    }
   ],
   "source": [
    "type Moveable={\n",
    "    id:number,\n",
    "    x:number,\n",
    "    y:number,\n",
    "    move:()=>void\n",
    "}\n",
    "\n",
    "type Resizeable={\n",
    "    id:number,\n",
    "    width:number,\n",
    "    height:number,\n",
    "    resize:()=>void\n",
    "}\n",
    "    \n",
    "type Component = Moveable & Resizeable\n",
    "\n",
    "let newComponent:Component={\n",
    "    id:109,\n",
    "    x:5,\n",
    "    y:5,\n",
    "    width:400,\n",
    "    height:200,\n",
    "    \n",
    "    move:()=>{\n",
    "        //define how this component moves\n",
    "        console.log(\"moves\")\n",
    "    },\n",
    "\n",
    "    resize:()=>{\n",
    "        //define how this component resizes\n",
    "        console.log(\"resize\")\n",
    "    }\n",
    "}\n",
    "\n",
    "newComponent"
   ]
  },
  {
   "cell_type": "code",
   "execution_count": 94,
   "metadata": {
    "scrolled": true
   },
   "outputs": [
    {
     "name": "stdout",
     "output_type": "stream",
     "text": [
      "moves\n"
     ]
    }
   ],
   "source": [
    "newComponent.move()"
   ]
  },
  {
   "cell_type": "markdown",
   "metadata": {},
   "source": [
    "<a id=\"ice15\"></a>\n",
    "\n",
    "## In-Class Exercise #15"
   ]
  },
  {
   "cell_type": "markdown",
   "metadata": {},
   "source": [
    "Create two types and then create a 3rd type from those first two type.\n",
    "\n",
    "IceUser:\n",
    "\n",
    "- firstName\n",
    "- lastName\n",
    "- age\n",
    "\n",
    "IceCustomer:\n",
    "- cart (array of strings)\n",
    "- address (string)\n",
    "\n",
    "\n",
    "IceComplete:\n",
    "- Combination of IceCustomer and IceUser\n",
    "\n",
    "Also Create an IceComplete Object named `icedOver`\n"
   ]
  },
  {
   "cell_type": "code",
   "execution_count": null,
   "metadata": {},
   "outputs": [],
   "source": []
  },
  {
   "cell_type": "markdown",
   "metadata": {},
   "source": [
    "<a id=\"literal\"></a>\n",
    "\n",
    "### Literal Types"
   ]
  },
  {
   "cell_type": "markdown",
   "metadata": {},
   "source": [
    "A Literal type works kind of like an enum type.  You can set the possible values are variable takes by assigning it a value and chaining all posible values with the `|`"
   ]
  },
  {
   "cell_type": "code",
   "execution_count": 95,
   "metadata": {},
   "outputs": [
    {
     "name": "stderr",
     "output_type": "stream",
     "text": [
      "3:1 - Type '25' is not assignable to type '100'.\n"
     ]
    }
   ],
   "source": [
    "// This is useless\n",
    "let literalType1:100\n",
    "literalType1 = 25"
   ]
  },
  {
   "cell_type": "code",
   "execution_count": 96,
   "metadata": {},
   "outputs": [
    {
     "name": "stdout",
     "output_type": "stream",
     "text": [
      "\u001b[33m25\u001b[39m\n"
     ]
    }
   ],
   "source": [
    "let literalType2:25|50|100\n",
    "literalType2 = 25"
   ]
  },
  {
   "cell_type": "markdown",
   "metadata": {},
   "source": [
    "We can even define the options as its own type."
   ]
  },
  {
   "cell_type": "code",
   "execution_count": 98,
   "metadata": {},
   "outputs": [],
   "source": [
    "type Color = \"red\"|\"green\"|\"blue\"\n",
    "\n",
    "let literalColor:Color"
   ]
  },
  {
   "cell_type": "code",
   "execution_count": 99,
   "metadata": {},
   "outputs": [
    {
     "name": "stderr",
     "output_type": "stream",
     "text": [
      "1:1 - Type '\"yellow\"' is not assignable to type 'Color'.\n"
     ]
    }
   ],
   "source": [
    "literalColor=\"yellow\""
   ]
  },
  {
   "cell_type": "code",
   "execution_count": 100,
   "metadata": {},
   "outputs": [
    {
     "name": "stdout",
     "output_type": "stream",
     "text": [
      "blue\n"
     ]
    }
   ],
   "source": [
    "literalColor=\"blue\""
   ]
  },
  {
   "cell_type": "markdown",
   "metadata": {},
   "source": [
    "<a id=\"ice16\"></a>\n",
    "\n",
    "## In-Class Exercise #16"
   ]
  },
  {
   "cell_type": "markdown",
   "metadata": {},
   "source": [
    "Create a Literal type that restricts its values to the 6 main characters from friends.  Ross, Rachel, Joey, Chandler, Pheobe, Monica\n",
    "\n",
    "Use that type to create a variable for Rachel"
   ]
  },
  {
   "cell_type": "code",
   "execution_count": null,
   "metadata": {},
   "outputs": [],
   "source": []
  },
  {
   "cell_type": "markdown",
   "metadata": {},
   "source": [
    "<a id=\"nnao\"></a>\n",
    "\n",
    "### Non-null assertion operator"
   ]
  },
  {
   "cell_type": "markdown",
   "metadata": {},
   "source": [
    "The non-null assertion operator is used to postfix variables to tell TypeScript that the variable can not be null even thought TypeScript may think that it could be null.  Good practice states this should not be used when the variable could actually be null, and only when TypeScript can't infer that the null type has been ruled out\n",
    "\n",
    "\n",
    "TypeScript has a .tsconfig file (uneditabled in this jupyter notebook) that allows use to turn some of the TypeScript rules on or off (more on this later).  For the following example we want strictNullChecks option turned on (set to true)  This can not be done in this notebook, so check out this example of TypeScript Playground:\n",
    "\n",
    "https://www.typescriptlang.org/play?&install-plugin=@structured-types/playground-plugin#code/PTAqAsFMAIBcGcDGB7AdgMwJYHNrgIbzTySyyaq4BE8sATporAHICuANuwMJSIDW8KgC44dVpAA0AKBlT0rVE0xpoAN3ztMAE3yxIAZXKUAFDtj4A-CNoNKAHwVbIWVJC13UHdgEpoAbyloIOgQaB5IfgpcWGRiSBhYKGgzfGhMIk9OaGQ6aEdnCjdA4Mx0aFNdVIBeGuhM9mg7O2TK6BqqvNQnFzdvAOCBuHA6ZAB3OshxgFE6EbpjAHIYRHxUVGRYaAAjGHqF72KggF9i4pOg+UVyFQAHEcRIeHgp1HJYAE8K8ytieiiHLoFVzueq+frBdSaMwGIzYL74A4DUIpaArVATVSQXL4JisDTsd7bXZebK5fI9LRBQ4hYBElasEhDGB3SCqAB00EuShUo2QHEpMzm2VYsFOSLA7xuBkQDBum3SnXwW3YCViFHQWKGuha5lRqzqGyJdRJOU63UKlOpoXgsVGMBIMFSKAAtjdMOxdMp0Vi5mLgirNkQOik2TEADJjLFcQiQYy+P1W2mgWJYAAeQwVdryjMSuzQAFp6tBCCQ6Nd0cgpXRdDlE9AA8Q2jr8ABCUPICN2ujRkhxhPHYp3ZAPJ4vN6fbxAA\n",
    "\n",
    "\n"
   ]
  },
  {
   "cell_type": "markdown",
   "metadata": {},
   "source": [
    "<a id=\"hw\"></a>\n",
    "\n",
    "# Homework"
   ]
  },
  {
   "cell_type": "markdown",
   "metadata": {},
   "source": [
    "#### Question #1"
   ]
  },
  {
   "cell_type": "markdown",
   "metadata": {},
   "source": [
    "Create a type to represent the following instances of `CTStudent` Also declare three 3 students below as type `CTStudent` and set their values\n",
    "\n",
    "```\n",
    "let student1 = {\n",
    "    id: 'GMK435&g62L00',\n",
    "    name: 'John Smith',\n",
    "    age: 24,\n",
    "    isTired: true,\n",
    "    projectsCompleted:[\"HTML Portfolio\", \"Fakebook\", \"Pokemon API Project\", \"Weather Bug\"],\n",
    "    pet: 'dog'\n",
    "}\n",
    "\n",
    "let student2= {\n",
    "    id: '6KGS%54GmlY76',\n",
    "    name: 'Jenny Hawthorne',\n",
    "    age: 28,\n",
    "    isTired: false,\n",
    "    projectsCompleted:[\"HTML Portfolio\"],\n",
    "}\n",
    "\n",
    "let student3 = {\n",
    "    id: '6KGS%54GmlY76',\n",
    "    name: 'Neo',\n",
    "    age: 57,\n",
    "    isTired: true,\n",
    "    projectsCompleted:[\"Matrix\",\"Biological Interface Program\"],\n",
    "    pet:'cat'\n",
    "}\n",
    "```"
   ]
  },
  {
   "cell_type": "code",
   "execution_count": 106,
   "metadata": {},
   "outputs": [
    {
     "name": "stderr",
     "output_type": "stream",
     "text": [
      "15:5 - ',' expected.\n",
      "24:5 - ',' expected.\n",
      "33:5 - ',' expected.\n"
     ]
    }
   ],
   "source": [
    "//Answer #check aliases\n",
    "type CTStudent = {\n",
    "    id: number,\n",
    "    name:string,\n",
    "    age:number,\n",
    "    isTired:boolean,\n",
    "    projectsCompleted: string[];\n",
    "    pet?:string\n",
    "}\n",
    "\n",
    "// Declare snd set values for three students\n",
    "let student1:CTStudent = {\n",
    "    id:1,\n",
    "    name:\"Bikram P\"\n",
    "    age:35,\n",
    "    isTired:true,\n",
    "    projectsCompleted:[\"HTML Portfolio\",\"Pokemon API Project\",\"Weather App\",\"myshop_shop\" ],\n",
    "    pet:\"dog\",    \n",
    "}\n",
    "\n",
    "let student2:CTStudent = {\n",
    "    id:2,\n",
    "    name:\" Miguel Avila\"\n",
    "    age:28,\n",
    "    isTired:false,\n",
    "    projectsCompleted:[\"Pokemon API Project\",\"Weather App\" ],\n",
    "    pet:\"cat\",    \n",
    "}\n",
    "\n",
    "let student3:CTStudent = {\n",
    "    id:3,\n",
    "    name:\"Andres Rodriguez\"\n",
    "    age:32,\n",
    "    isTired:true,\n",
    "    projectsCompleted:[\"HTML Portfolio\",\"Pokemon API Project\",\"Weather App\",\"myshop_shop\" ],\n",
    "    pet:\"dog\",    \n",
    "}\n",
    "student1"
   ]
  },
  {
   "cell_type": "markdown",
   "metadata": {},
   "source": [
    "#### Question #2"
   ]
  },
  {
   "cell_type": "markdown",
   "metadata": {},
   "source": [
    "Write a function that will accept a an object of type `Fruit`, the object of type Fruit could also be `null`.  If their is a Fruit print the color of the fruit, otherwise print `You ate my fruit already` be sure to annoate the return type of the function"
   ]
  },
  {
   "cell_type": "code",
   "execution_count": 164,
   "metadata": {},
   "outputs": [
    {
     "name": "stdout",
     "output_type": "stream",
     "text": [
      "The fruit color is: red\n",
      "You ate my fruit already\n"
     ]
    }
   ],
   "source": [
    "// //Given\n",
    "           \n",
    "type Fruit = {\n",
    "    color: string;\n",
    "    shape: string;\n",
    "};\n",
    "\n",
    "let apple: Fruit = { color: \"red\", shape: \"sphere\" };\n",
    "let eaten: Fruit | null;\n",
    "\n",
    "function fruitColor(fruit: Fruit | null): void {\n",
    "    if (fruit){\n",
    "        console.log(`The fruit color is: ${fruit.color}`);\n",
    "    } else {\n",
    "        console.log(\"You ate my fruit already\");\n",
    "    }\n",
    "}\n",
    "\n",
    "\n",
    "fruitColor(apple);  \n",
    "fruitColor(eaten);  "
   ]
  },
  {
   "cell_type": "markdown",
   "metadata": {},
   "source": [
    "#### Question #3"
   ]
  },
  {
   "cell_type": "markdown",
   "metadata": {},
   "source": [
    "Create a Union Type named `Ebook` for `Book` and `DigitalBook` and create one instance of the new union type"
   ]
  },
  {
   "cell_type": "code",
   "execution_count": 145,
   "metadata": {},
   "outputs": [
    {
     "name": "stdout",
     "output_type": "stream",
     "text": [
      "Processing Book with id: 12345\n",
      "Processing DigitalBook with fileType:ebook\n"
     ]
    }
   ],
   "source": [
    "//Given \n",
    "type Book={\n",
    "    id:number,\n",
    "    title:string,\n",
    "    author:string,\n",
    "    filetype:string,\n",
    "};\n",
    "\n",
    "type DigitalBook={\n",
    "    fileType:string;\n",
    "};\n",
    "\n",
    "\n",
    "type Ebook = Book | DigitalBook;\n",
    "\n",
    "function infoEbook(ebook:Ebook): void {\n",
    "    if (typeof ebook === \"object\" && \"fileType\" in ebook){\n",
    "        console.log(`Processing DigitalBook with fileType:${ebook.fileType}`);\n",
    "    }else{\n",
    "        console.log(`Processing Book with id: ${ebook.id}`);\n",
    "    }\n",
    "}\n",
    "\n",
    "const myBook:Book = {\n",
    "    id:12345,\n",
    "    title:\"Software Engineering\",\n",
    "    author:\"Alex Swiggum\",\n",
    "    filetype:\"pdf\",\n",
    "};\n",
    "\n",
    "const myDigitalBook ={\n",
    "    fileType:\"ebook\",\n",
    "};\n",
    "\n",
    "infoEbook(myBook);\n",
    "infoEbook(myDigitalBook);\n",
    "\n"
   ]
  },
  {
   "cell_type": "markdown",
   "metadata": {},
   "source": [
    "#### Question #4"
   ]
  },
  {
   "cell_type": "markdown",
   "metadata": {},
   "source": [
    "Create a Type to represent a `ShopItem` that will fit the following rules. You may need to create additional structures\n",
    "\n",
    "- All ShopItems have an numeric id that can not be edited \n",
    "- All ShopItems have a price\n",
    "- All ShopItems have a description\n",
    "- Some ShopItems have a color\n",
    "- All ShopItems have a Category represented with an enum \n",
    "    - Possible Categories are `Shirts` `Shoes` `Pants` `Hats`\n",
    "- All ShopItems have a list of keywords used to help search for the ShopItem \n",
    "    - For Example A Ironman Tshirt may have keywords = [\"Marvel\", \"Endgame\", \"Ironman\",\"Character Tees\", \"Tony Stark\"]\n",
    "\n",
    "After Creating the `ShopItem` type create 3 items using this type"
   ]
  },
  {
   "cell_type": "code",
   "execution_count": 150,
   "metadata": {
    "scrolled": false
   },
   "outputs": [
    {
     "name": "stdout",
     "output_type": "stream",
     "text": [
      "{\n",
      "  item_id: \u001b[33m1\u001b[39m,\n",
      "  price: \u001b[33m24.99\u001b[39m,\n",
      "  description: \u001b[32m'Ironman Tshirt'\u001b[39m,\n",
      "  category: \u001b[32m'Shirt'\u001b[39m,\n",
      "  keywords: [ \u001b[32m'Marvel'\u001b[39m, \u001b[32m'Endgame'\u001b[39m, \u001b[32m'Ironman'\u001b[39m, \u001b[32m'Character Tees'\u001b[39m, \u001b[32m'Tony Stark'\u001b[39m ],\n",
      "  color: \u001b[32m'Red'\u001b[39m\n",
      "}\n",
      "{\n",
      "  item_id: \u001b[33m2\u001b[39m,\n",
      "  price: \u001b[33m29.99\u001b[39m,\n",
      "  description: \u001b[32m'Sport Shoes'\u001b[39m,\n",
      "  category: \u001b[32m'Shoe'\u001b[39m,\n",
      "  keywords: [ \u001b[32m'Athletic'\u001b[39m, \u001b[32m'Running'\u001b[39m, \u001b[32m'Sports'\u001b[39m, \u001b[32m'Comfortable'\u001b[39m ],\n",
      "  color: \u001b[32m'Blue'\u001b[39m\n",
      "}\n",
      "{\n",
      "  item_id: \u001b[33m3\u001b[39m,\n",
      "  price: \u001b[33m29.99\u001b[39m,\n",
      "  description: \u001b[32m'Slim Fit Jeans'\u001b[39m,\n",
      "  category: \u001b[32m'Pant'\u001b[39m,\n",
      "  keywords: [ \u001b[32m'Casual'\u001b[39m, \u001b[32m'Denim'\u001b[39m, \u001b[32m'Slim Fit'\u001b[39m, \u001b[32m'Fashion'\u001b[39m ],\n",
      "  color: \u001b[32m'Black'\u001b[39m\n",
      "}\n"
     ]
    }
   ],
   "source": [
    "enum shopCategory {\n",
    "  Shirt = \"Shirt\",\n",
    "  Shoe = \"Shoe\",\n",
    "  Pant = \"Pant\",\n",
    "  Hat = \"Hat\",\n",
    "}\n",
    "\n",
    "interface shopItem {\n",
    "  readonly item_id: number;\n",
    "  price: number;\n",
    "  description: string;\n",
    "  category: shopCategory;\n",
    "  keywords: string[];\n",
    "  color?: string;\n",
    "}\n",
    "\n",
    "// Creating three shopItems\n",
    "const item1: shopItem = {\n",
    "  item_id: 1,\n",
    "  price: 24.99,\n",
    "  description: \"Ironman Tshirt\",\n",
    "  category: shopCategory.Shirt,\n",
    "  keywords: [\"Marvel\", \"Endgame\", \"Ironman\", \"Character Tees\", \"Tony Stark\"],\n",
    "  color: \"Red\",\n",
    "};\n",
    "\n",
    "const item2: shopItem = {\n",
    "  item_id: 2,\n",
    "  price: 29.99,\n",
    "  description: \"Sport Shoes\",\n",
    "  category: shopCategory.Shoe,\n",
    "  keywords: [\"Athletic\", \"Running\", \"Sports\", \"Comfortable\"],\n",
    "  color: \"Blue\",\n",
    "};\n",
    "\n",
    "const item3: shopItem = {\n",
    "  item_id: 3,\n",
    "  price: 29.99,\n",
    "  description: \"Slim Fit Jeans\",\n",
    "  category: shopCategory.Pant,\n",
    "  keywords: [\"Casual\", \"Denim\", \"Slim Fit\", \"Fashion\"],\n",
    "  color: \"Black\",\n",
    "};\n",
    "\n",
    "// Print the items\n",
    "console.log(item1);\n",
    "console.log(item2);\n",
    "console.log(item3);\n",
    "\n"
   ]
  },
  {
   "cell_type": "code",
   "execution_count": null,
   "metadata": {},
   "outputs": [],
   "source": []
  }
 ],
 "metadata": {
  "kernelspec": {
   "display_name": "TypeScript",
   "language": "typescript",
   "name": "tslab"
  },
  "language_info": {
   "codemirror_mode": {
    "mode": "typescript",
    "name": "javascript",
    "typescript": true
   },
   "file_extension": ".ts",
   "mimetype": "text/typescript",
   "name": "typescript",
   "version": "3.7.2"
  }
 },
 "nbformat": 4,
 "nbformat_minor": 5
}
